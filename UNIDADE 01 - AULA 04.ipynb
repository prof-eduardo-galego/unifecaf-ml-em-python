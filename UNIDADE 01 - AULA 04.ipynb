{
  "nbformat": 4,
  "nbformat_minor": 0,
  "metadata": {
    "colab": {
      "provenance": [],
      "authorship_tag": "ABX9TyPaHO2aLCmRJY/l/s96JBUD",
      "include_colab_link": true
    },
    "kernelspec": {
      "name": "python3",
      "display_name": "Python 3"
    },
    "language_info": {
      "name": "python"
    }
  },
  "cells": [
    {
      "cell_type": "markdown",
      "metadata": {
        "id": "view-in-github",
        "colab_type": "text"
      },
      "source": [
        "<a href=\"https://colab.research.google.com/github/prof-eduardo-galego/unifecaf-ml-em-python/blob/main/UNIDADE%2001%20-%20AULA%2004.ipynb\" target=\"_parent\"><img src=\"https://colab.research.google.com/assets/colab-badge.svg\" alt=\"Open In Colab\"/></a>"
      ]
    },
    {
      "cell_type": "code",
      "source": [
        "import pandas as pd\n",
        "\n",
        "data = {'Nome': ['Carlos', 'Pedro', 'Aline', 'Rebeca'],\n",
        "        'Idade': [20, 21, 19, 18],\n",
        "        'Telefone': ['(11) 95423-4343', '(11) 99232-3221', '(13) 95430-9550', '(11) 4012-2160']}\n",
        "\n",
        "df = pd.DataFrame(data)\n",
        "\n",
        "print(df)"
      ],
      "metadata": {
        "colab": {
          "base_uri": "https://localhost:8080/"
        },
        "id": "PRam5ls9ni4Q",
        "outputId": "1626a741-3282-4f90-9818-092e8b396aff"
      },
      "execution_count": null,
      "outputs": [
        {
          "output_type": "stream",
          "name": "stdout",
          "text": [
            "     Nome  Idade         Telefone\n",
            "0  Carlos     20  (11) 95423-4343\n",
            "1   Pedro     21  (11) 99232-3221\n",
            "2   Aline     19  (13) 95430-9550\n",
            "3  Rebeca     18   (11) 4012-2160\n"
          ]
        }
      ]
    },
    {
      "cell_type": "code",
      "source": [
        "def printFile(file):\n",
        "  with open(file, \"r\") as f:\n",
        "    print(f.read())"
      ],
      "metadata": {
        "id": "ltFn4GsUsYGG"
      },
      "execution_count": null,
      "outputs": []
    },
    {
      "cell_type": "code",
      "source": [
        "df.to_csv(r'export.csv', index=False)\n",
        "printFile(r'export.csv')\n"
      ],
      "metadata": {
        "colab": {
          "base_uri": "https://localhost:8080/"
        },
        "id": "1gPi9_ZBn0Cn",
        "outputId": "b6729601-da82-4171-c199-ff6ef9a3cb7c"
      },
      "execution_count": null,
      "outputs": [
        {
          "output_type": "stream",
          "name": "stdout",
          "text": [
            "Nome,Idade,Telefone\n",
            "Carlos,20,(11) 95423-4343\n",
            "Pedro,21,(11) 99232-3221\n",
            "Aline,19,(13) 95430-9550\n",
            "Rebeca,18,(11) 4012-2160\n",
            "\n"
          ]
        }
      ]
    },
    {
      "cell_type": "code",
      "source": [
        "df.to_json(r'export.json', orient='table') #split, table, values, index, records, columns\n",
        "printFile(r'export.json')"
      ],
      "metadata": {
        "colab": {
          "base_uri": "https://localhost:8080/"
        },
        "id": "3NEgfkeCqIV4",
        "outputId": "8f2bc33f-bd27-475f-fbeb-803a42d3148e"
      },
      "execution_count": null,
      "outputs": [
        {
          "output_type": "stream",
          "name": "stdout",
          "text": [
            "{\"schema\":{\"fields\":[{\"name\":\"index\",\"type\":\"integer\"},{\"name\":\"Nome\",\"type\":\"string\"},{\"name\":\"Idade\",\"type\":\"integer\"},{\"name\":\"Telefone\",\"type\":\"string\"}],\"primaryKey\":[\"index\"],\"pandas_version\":\"1.4.0\"},\"data\":[{\"index\":0,\"Nome\":\"Carlos\",\"Idade\":20,\"Telefone\":\"(11) 95423-4343\"},{\"index\":1,\"Nome\":\"Pedro\",\"Idade\":21,\"Telefone\":\"(11) 99232-3221\"},{\"index\":2,\"Nome\":\"Aline\",\"Idade\":19,\"Telefone\":\"(13) 95430-9550\"},{\"index\":3,\"Nome\":\"Rebeca\",\"Idade\":18,\"Telefone\":\"(11) 4012-2160\"}]}\n"
          ]
        }
      ]
    },
    {
      "cell_type": "code",
      "source": [
        "df.to_xml('export.xml')\n",
        "printFile(r'export.xml')"
      ],
      "metadata": {
        "colab": {
          "base_uri": "https://localhost:8080/"
        },
        "id": "XnUvhSU9uuB5",
        "outputId": "b34b0b27-caaa-4aa8-c55f-cfd64689cf4c"
      },
      "execution_count": null,
      "outputs": [
        {
          "output_type": "stream",
          "name": "stdout",
          "text": [
            "<?xml version='1.0' encoding='utf-8'?>\n",
            "<data>\n",
            "  <row>\n",
            "    <index>0</index>\n",
            "    <Nome>Carlos</Nome>\n",
            "    <Idade>20</Idade>\n",
            "    <Telefone>(11) 95423-4343</Telefone>\n",
            "  </row>\n",
            "  <row>\n",
            "    <index>1</index>\n",
            "    <Nome>Pedro</Nome>\n",
            "    <Idade>21</Idade>\n",
            "    <Telefone>(11) 99232-3221</Telefone>\n",
            "  </row>\n",
            "  <row>\n",
            "    <index>2</index>\n",
            "    <Nome>Aline</Nome>\n",
            "    <Idade>19</Idade>\n",
            "    <Telefone>(13) 95430-9550</Telefone>\n",
            "  </row>\n",
            "  <row>\n",
            "    <index>3</index>\n",
            "    <Nome>Rebeca</Nome>\n",
            "    <Idade>18</Idade>\n",
            "    <Telefone>(11) 4012-2160</Telefone>\n",
            "  </row>\n",
            "</data>\n",
            "\n"
          ]
        }
      ]
    },
    {
      "cell_type": "code",
      "source": [
        "import yaml\n",
        "\n",
        "with open('export.yaml', 'w') as file:\n",
        "  documents = yaml.dump({'result': df.to_dict(orient='records')}, file, default_flow_style=False)\n",
        "\n",
        "printFile(r'export.yaml')"
      ],
      "metadata": {
        "colab": {
          "base_uri": "https://localhost:8080/"
        },
        "id": "75mqNkBftG-G",
        "outputId": "48d2d01e-19a6-40a9-9b1a-094db658c144"
      },
      "execution_count": null,
      "outputs": [
        {
          "output_type": "stream",
          "name": "stdout",
          "text": [
            "result:\n",
            "- Idade: 20\n",
            "  Nome: Carlos\n",
            "  Telefone: (11) 95423-4343\n",
            "- Idade: 21\n",
            "  Nome: Pedro\n",
            "  Telefone: (11) 99232-3221\n",
            "- Idade: 19\n",
            "  Nome: Aline\n",
            "  Telefone: (13) 95430-9550\n",
            "- Idade: 18\n",
            "  Nome: Rebeca\n",
            "  Telefone: (11) 4012-2160\n",
            "\n"
          ]
        }
      ]
    }
  ]
}