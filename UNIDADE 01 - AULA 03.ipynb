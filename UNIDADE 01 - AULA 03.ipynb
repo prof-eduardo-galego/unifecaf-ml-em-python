{
  "nbformat": 4,
  "nbformat_minor": 0,
  "metadata": {
    "colab": {
      "provenance": [],
      "authorship_tag": "ABX9TyP5zlvwqy2wf/prSaP+NHaF",
      "include_colab_link": true
    },
    "kernelspec": {
      "name": "python3",
      "display_name": "Python 3"
    },
    "language_info": {
      "name": "python"
    }
  },
  "cells": [
    {
      "cell_type": "markdown",
      "metadata": {
        "id": "view-in-github",
        "colab_type": "text"
      },
      "source": [
        "<a href=\"https://colab.research.google.com/github/prof-eduardo-galego/unifecaf-ml-em-python/blob/main/UNIDADE%2001%20-%20AULA%2003.ipynb\" target=\"_parent\"><img src=\"https://colab.research.google.com/assets/colab-badge.svg\" alt=\"Open In Colab\"/></a>"
      ]
    },
    {
      "cell_type": "code",
      "execution_count": null,
      "metadata": {
        "colab": {
          "base_uri": "https://localhost:8080/"
        },
        "id": "NAH7atkyA6UY",
        "outputId": "ac1be76f-c984-429f-a3bc-aebfc2eef64a"
      },
      "outputs": [
        {
          "output_type": "stream",
          "name": "stdout",
          "text": [
            "                             nome  idade             cpf            rg  \\\n",
            "0     Vitor Ian Benedito Aparício     32  591.339.694-42  30.839.966-3   \n",
            "1      Miguel Mateus Kauê Drumond     70  748.484.275-33  12.298.360-9   \n",
            "2  Lucas Severino Calebe Baptista     77  329.184.353-33  12.590.458-7   \n",
            "\n",
            "    data_nasc       sexo        signo                     mae  \\\n",
            "0  05/01/1991  Masculino  Capricórnio         Amanda Giovanna   \n",
            "1  06/03/1953  Masculino       Peixes  Daiane Jéssica Daniela   \n",
            "2  08/03/1946  Masculino       Peixes             Márcia Ayla   \n",
            "\n",
            "                       pai                            email  ... numero  \\\n",
            "0   Antonio Lucca Aparício      vitor-aparicio93@csa.edu.br  ...    726   \n",
            "1  Miguel Benedito Drumond  miguel_mateus_drumond@iname.com  ...    500   \n",
            "2  Pietro Geraldo Baptista  lucas-baptista93@genesyslab.com  ...    930   \n",
            "\n",
            "       bairro         cidade  estado   telefone_fixo          celular altura  \\\n",
            "0  Cristo Rei  Várzea Grande      MT  (65) 2576-0290  (65) 98275-5760   1,78   \n",
            "1      Graças         Recife      PE  (81) 2797-7917  (81) 99207-4146   1,97   \n",
            "2  Madre Deus       São Luís      MA  (98) 2601-2246  (98) 99599-9748   1,72   \n",
            "\n",
            "  peso tipo_sanguineo      cor  \n",
            "0   64            AB+    preto  \n",
            "1   64             A-    verde  \n",
            "2   93             A-  amarelo  \n",
            "\n",
            "[3 rows x 23 columns]\n"
          ]
        }
      ],
      "source": [
        "import pandas as pd\n",
        "\n",
        "data = pd.read_csv('exemplo_arquivos/dados.csv')\n",
        "\n",
        "print(data)"
      ]
    },
    {
      "cell_type": "code",
      "source": [
        "import psycopg2\n",
        "\n",
        "with psycopg2.connect(host='postgresql-unifecaf-lab.postgres.database.azure.com', \n",
        "                      database='dados_usuarios', user='postgres', password='senha_poderosa123') as con:\n",
        "  cur = con.cursor()\n",
        "  cur.execute('select * from usuarios')\n",
        "  recset = cur.fetchall()\n",
        "  for rec in recset:\n",
        "    print(rec)"
      ],
      "metadata": {
        "colab": {
          "base_uri": "https://localhost:8080/"
        },
        "id": "Y8iYstwGFaTG",
        "outputId": "0b90a049-2b69-4b32-af90-11340a4244e3"
      },
      "execution_count": null,
      "outputs": [
        {
          "output_type": "stream",
          "name": "stdout",
          "text": [
            "(1, 'Paulo Henrique dos Santos', datetime.date(1995, 6, 14), 'phsantos@gmail.com')\n",
            "(2, 'Luzia Almeira Pereira', datetime.date(2001, 8, 1), 'luizinha_pp2001@hotmail.com')\n"
          ]
        }
      ]
    }
  ]
}