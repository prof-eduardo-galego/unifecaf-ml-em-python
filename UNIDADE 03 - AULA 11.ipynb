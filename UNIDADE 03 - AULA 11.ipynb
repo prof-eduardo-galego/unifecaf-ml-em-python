{
  "nbformat": 4,
  "nbformat_minor": 0,
  "metadata": {
    "colab": {
      "provenance": [],
      "authorship_tag": "ABX9TyOUcBRu3oiFOZf+WuiMrf0C",
      "include_colab_link": true
    },
    "kernelspec": {
      "name": "python3",
      "display_name": "Python 3"
    },
    "language_info": {
      "name": "python"
    },
    "accelerator": "TPU"
  },
  "cells": [
    {
      "cell_type": "markdown",
      "metadata": {
        "id": "view-in-github",
        "colab_type": "text"
      },
      "source": [
        "<a href=\"https://colab.research.google.com/github/prof-eduardo-galego/unifecaf-ml-em-python/blob/main/UNIDADE%2003%20-%20AULA%2011.ipynb\" target=\"_parent\"><img src=\"https://colab.research.google.com/assets/colab-badge.svg\" alt=\"Open In Colab\"/></a>"
      ]
    },
    {
      "cell_type": "markdown",
      "source": [
        "Código extraído de: https://www.sitepoint.com/python-multiprocessing-parallel-programming"
      ],
      "metadata": {
        "id": "RaQVc4_Eakw6"
      }
    },
    {
      "cell_type": "code",
      "execution_count": null,
      "metadata": {
        "colab": {
          "base_uri": "https://localhost:8080/"
        },
        "id": "vBOmeO6ZaPeQ",
        "outputId": "547565d0-8e32-4780-ac71-edc0524620b3"
      },
      "outputs": [
        {
          "output_type": "stream",
          "name": "stdout",
          "text": [
            "Program finished in 2.230633148999914 seconds - using multiprocessing\n",
            "---\n",
            "Program finished in 2.9356691820000833 seconds\n"
          ]
        }
      ],
      "source": [
        "from multiprocessing import Pool\n",
        "import time\n",
        "import math\n",
        "\n",
        "N = 5000000\n",
        "\n",
        "def cube(x):\n",
        "  return math.sqrt(x)\n",
        "\n",
        "# first way, using multiprocessing\n",
        "start_time = time.perf_counter()\n",
        "with Pool() as pool:\n",
        "  result = pool.map(cube, range(10,N))\n",
        "finish_time = time.perf_counter()\n",
        "print(\"Program finished in {} seconds - using multiprocessing\".format(finish_time-start_time))\n",
        "print(\"---\")\n",
        "\n",
        "# second way, serial computation\n",
        "start_time = time.perf_counter()\n",
        "result = []\n",
        "for x in range(10,N):\n",
        "  result.append(cube(x))\n",
        "finish_time = time.perf_counter()\n",
        "print(\"Program finished in {} seconds\".format(finish_time-start_time))"
      ]
    },
    {
      "cell_type": "code",
      "source": [
        "import tensorflow as tf\n",
        "\n",
        "mnist = tf.keras.datasets.mnist\n",
        "\n",
        "(x_train, y_train), (x_test, y_test) = mnist.load_data()\n",
        "x_train, x_test = x_train / 255.0, x_test / 255.0\n",
        "\n",
        "\n",
        "model = tf.keras.models.Sequential([\n",
        "  tf.keras.layers.Flatten(input_shape=(28, 28)),\n",
        "  tf.keras.layers.Dense(128, activation='relu'),\n",
        "  tf.keras.layers.Dropout(0.2),\n",
        "  tf.keras.layers.Dense(10, activation='softmax')\n",
        "])\n",
        "\n",
        "model.compile(optimizer='adam',\n",
        "              loss='sparse_categorical_crossentropy',\n",
        "              metrics=['accuracy'])\n",
        "\n",
        "model.fit(x_train, y_train, epochs=5)\n",
        "model.evaluate(x_test,  y_test, verbose=2)"
      ],
      "metadata": {
        "colab": {
          "base_uri": "https://localhost:8080/"
        },
        "id": "BaIk0fG3bW41",
        "outputId": "ace51d55-fd4a-4ced-b7bf-2151459ccd9d"
      },
      "execution_count": null,
      "outputs": [
        {
          "output_type": "stream",
          "name": "stdout",
          "text": [
            "Downloading data from https://storage.googleapis.com/tensorflow/tf-keras-datasets/mnist.npz\n",
            "11490434/11490434 [==============================] - 0s 0us/step\n",
            "Epoch 1/5\n",
            "1875/1875 [==============================] - 11s 5ms/step - loss: 0.2951 - accuracy: 0.9134\n",
            "Epoch 2/5\n",
            "1875/1875 [==============================] - 10s 5ms/step - loss: 0.1399 - accuracy: 0.9583\n",
            "Epoch 3/5\n",
            "1875/1875 [==============================] - 8s 4ms/step - loss: 0.1061 - accuracy: 0.9681\n",
            "Epoch 4/5\n",
            "1875/1875 [==============================] - 10s 5ms/step - loss: 0.0858 - accuracy: 0.9739\n",
            "Epoch 5/5\n",
            "1875/1875 [==============================] - 10s 5ms/step - loss: 0.0750 - accuracy: 0.9766\n",
            "313/313 - 1s - loss: 0.0823 - accuracy: 0.9761 - 1s/epoch - 4ms/step\n"
          ]
        },
        {
          "output_type": "execute_result",
          "data": {
            "text/plain": [
              "[0.08228541165590286, 0.9761000275611877]"
            ]
          },
          "metadata": {},
          "execution_count": 7
        }
      ]
    }
  ]
}